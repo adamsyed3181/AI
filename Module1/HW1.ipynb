{
  "nbformat": 4,
  "nbformat_minor": 0,
  "metadata": {
    "colab": {
      "provenance": [],
      "authorship_tag": "ABX9TyNwDKL2c+VdXrwmkgu7nmIv",
      "include_colab_link": true
    },
    "kernelspec": {
      "name": "python3",
      "display_name": "Python 3"
    },
    "language_info": {
      "name": "python"
    }
  },
  "cells": [
    {
      "cell_type": "markdown",
      "metadata": {
        "id": "view-in-github",
        "colab_type": "text"
      },
      "source": [
        "<a href=\"https://colab.research.google.com/github/adamsyed3181/AI/blob/main/HW1.ipynb\" target=\"_parent\"><img src=\"https://colab.research.google.com/assets/colab-badge.svg\" alt=\"Open In Colab\"/></a>"
      ]
    },
    {
      "cell_type": "code",
      "source": [
        "class waterJugRules():\n",
        "\n",
        "  def __init__ (self):\n",
        "    self.jug5 = 0\n",
        "    self.jug3 = 0\n",
        "    self.capacity5 = 5\n",
        "    self.capacity3 = 3\n",
        "\n",
        "#checks if either jug exceeds capacity limit\n",
        "  def state_ok(self):\n",
        "    if self.jug5 <= self.capacity5 and self.jug3 <= self.capacity3:\n",
        "      return True\n",
        "    else:\n",
        "      return False\n",
        "\n",
        "  def save_state(self):\n",
        "    self._jug5 = self.jug5\n",
        "    self._jug3 = self.jug3\n",
        "\n",
        "  def restore_state(self):\n",
        "    self.jug5 = self._jug5\n",
        "    self.jug3 = self._jug3\n",
        "\n",
        "#----Rules----\n",
        "\n",
        "#fills jug 5 and checks if it doesn't exceed capacity (if it does, restore previous state)\n",
        "  def fill_jug5(self):\n",
        "    self.save_state()\n",
        "    self.jug5 = self.capacity5\n",
        "\n",
        "    if not self.state_ok():\n",
        "      self.restore_state()\n",
        "      return False\n",
        "    else:\n",
        "      print(\"5 litre jug filled\")\n",
        "    return True\n",
        "\n",
        "#pour exchange between 5 and 3\n",
        "  def fill_jug3_with_jug5(self):\n",
        "    self.save_state()\n",
        "    pour_amount = min(self.jug5, self.capacity3 - self.jug3) #finds minimum value between jug5 and 3 - jug3\n",
        "    self.jug5 -= pour_amount #subtracts minimum value from jug5\n",
        "    self.jug3 += pour_amount #adds minimum value to jug3\n",
        "\n",
        "    #checks state and restores if not ok\n",
        "    if not self.state_ok():\n",
        "        self.restore_state()\n",
        "        return False\n",
        "    else:\n",
        "      print(f\"Poured {pour_amount}L from 5L to 3L\")\n",
        "    return True\n",
        "\n",
        "  #sets jug3 to 0 and checks state\n",
        "  def empty_jug3(self):\n",
        "    self.save_state()\n",
        "    self.jug3 = 0\n",
        "    if not self.state_ok():\n",
        "      self.restore_state()\n",
        "      return False\n",
        "    else:\n",
        "      print(\"3 litre jug emptied\")\n",
        "    return True\n",
        "\n",
        "  def print_state(self):\n",
        "    print(f\"5L: {self.jug5}L, 3L: {self.jug3}L\\n----------------\")"
      ],
      "metadata": {
        "id": "pJ9Gv8Vtqg5y"
      },
      "execution_count": 39,
      "outputs": []
    },
    {
      "cell_type": "code",
      "source": [
        "class WaterJugPuzzle():\n",
        "  mcf = waterJugRules()\n",
        "\n",
        "\n",
        "  #Step 1: fill large jug -> 5L: 5L, 3L: 0L\n",
        "\n",
        "  mcf.fill_jug5()\n",
        "  mcf.print_state()\n",
        "\n",
        "  #Step 2: fill small jug with water from large jug -> 5L: 2L, 3L: 3L\n",
        "\n",
        "  mcf.fill_jug3_with_jug5()\n",
        "  mcf.print_state()\n",
        "\n",
        "  #Step 3: empty small jug -> 5L: 2L, 3L: 0L\n",
        "\n",
        "  mcf.empty_jug3()\n",
        "  mcf.print_state()\n",
        "\n",
        "  #Step 4: pour remaining 2 litres from large jug to small jug -> 5L: 0L, 3L: 2L\n",
        "\n",
        "  mcf.fill_jug3_with_jug5()\n",
        "  mcf.print_state()\n",
        "\n",
        "  #Step 5: refill large jug -> 5L: 5L, 3L: 2L\n",
        "\n",
        "  mcf.fill_jug5()\n",
        "  mcf.print_state()\n",
        "\n",
        "  #Step 6: pour 1 litre from large jug to small jug -> 5L: 4L, 3L: 3L\n",
        "\n",
        "  mcf.fill_jug3_with_jug5()\n",
        "  mcf.print_state()\n"
      ],
      "metadata": {
        "colab": {
          "base_uri": "https://localhost:8080/"
        },
        "id": "E_o1G1vEu5WR",
        "outputId": "5862a711-0e70-40e0-d154-9463d4afe2c1"
      },
      "execution_count": 40,
      "outputs": [
        {
          "output_type": "stream",
          "name": "stdout",
          "text": [
            "5 litre jug filled\n",
            "5L: 5L, 3L: 0L\n",
            "----------------\n",
            "Poured 3L from 5L to 3L\n",
            "5L: 2L, 3L: 3L\n",
            "----------------\n",
            "3 litre jug emptied\n",
            "5L: 2L, 3L: 0L\n",
            "----------------\n",
            "Poured 2L from 5L to 3L\n",
            "5L: 0L, 3L: 2L\n",
            "----------------\n",
            "5 litre jug filled\n",
            "5L: 5L, 3L: 2L\n",
            "----------------\n",
            "Poured 1L from 5L to 3L\n",
            "5L: 4L, 3L: 3L\n",
            "----------------\n"
          ]
        }
      ]
    }
  ]
}
