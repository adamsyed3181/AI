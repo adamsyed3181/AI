{
  "nbformat": 4,
  "nbformat_minor": 0,
  "metadata": {
    "colab": {
      "provenance": [],
      "authorship_tag": "ABX9TyOck/rUg1HfCvSSTHKqhuEN",
      "include_colab_link": true
    },
    "kernelspec": {
      "name": "python3",
      "display_name": "Python 3"
    },
    "language_info": {
      "name": "python"
    }
  },
  "cells": [
    {
      "cell_type": "markdown",
      "metadata": {
        "id": "view-in-github",
        "colab_type": "text"
      },
      "source": [
        "<a href=\"https://colab.research.google.com/github/adamsyed3181/AI/blob/main/Problem2.ipynb\" target=\"_parent\"><img src=\"https://colab.research.google.com/assets/colab-badge.svg\" alt=\"Open In Colab\"/></a>"
      ]
    },
    {
      "cell_type": "markdown",
      "source": [
        "Adam Syed\n",
        "9/24/25\n",
        "\n",
        "Assigment 2 Problem 2: Creates a BFS algorithm that discovers potential missing connections in a graph/network of friends."
      ],
      "metadata": {
        "id": "sVYbizTh8Dj9"
      }
    },
    {
      "cell_type": "code",
      "execution_count": null,
      "metadata": {
        "id": "bRVot3oXsi5z"
      },
      "outputs": [],
      "source": [
        "from collections import deque\n",
        "\n",
        "\n",
        "def PotentialFriends(graph, root): #BFS algorithm\n",
        "\n",
        "    visited, queue = set(), deque([root])\n",
        "    visited.add(root)\n",
        "    level = {} #creates dictionary level\n",
        "\n",
        "    while queue:\n",
        "\n",
        "        level[root] = 0 #sets root level to 0\n",
        "\n",
        "        vertex = queue.popleft()\n",
        "\n",
        "        if level[vertex] > 1: #Only prints vertexes greater than 1 (friends that are not directly connected)\n",
        "          print(vertex, end=\" \")\n",
        "\n",
        "        for neighbor in graph[vertex]:\n",
        "            if neighbor not in visited:\n",
        "                visited.add(neighbor)\n",
        "                queue.append(neighbor)\n",
        "                level[neighbor] = level[vertex] + 1 #Increases all neighbors' levels at the curret vertex by 1"
      ]
    },
    {
      "cell_type": "code",
      "source": [
        "G = {\n",
        "  \"Adam\" : [\"Maria\"],\n",
        "  \"Maria\" : [\"Adam\", \"Sophia\", \"Maya\", \"David\"],\n",
        "  \"Sophia\" : [\"Maria\", \"Maya\"],\n",
        "  \"Maya\" : [\"Maria\", \"Sophia\", \"David\"],\n",
        "  \"David\" : [\"Maria\", \"Maya\"]\n",
        "}\n",
        "\n",
        "PotentialFriends(G, \"Adam\")\n",
        "print()\n",
        "PotentialFriends(G, \"David\")\n",
        "print()\n",
        "PotentialFriends(G, \"Sophia\")\n",
        "print()"
      ],
      "metadata": {
        "colab": {
          "base_uri": "https://localhost:8080/"
        },
        "id": "37L6WmnwspUT",
        "outputId": "405d9f94-5dac-4529-a52e-cfa536a952f7"
      },
      "execution_count": null,
      "outputs": [
        {
          "output_type": "stream",
          "name": "stdout",
          "text": [
            "Sophia Maya David \n",
            "Adam Sophia \n",
            "Adam David \n"
          ]
        }
      ]
    }
  ]
}