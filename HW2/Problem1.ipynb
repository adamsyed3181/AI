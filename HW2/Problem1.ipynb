{
  "nbformat": 4,
  "nbformat_minor": 0,
  "metadata": {
    "colab": {
      "provenance": [],
      "authorship_tag": "ABX9TyPsHosUFczrycwOGTvK/xrO",
      "include_colab_link": true
    },
    "kernelspec": {
      "name": "python3",
      "display_name": "Python 3"
    },
    "language_info": {
      "name": "python"
    }
  },
  "cells": [
    {
      "cell_type": "markdown",
      "metadata": {
        "id": "view-in-github",
        "colab_type": "text"
      },
      "source": [
        "<a href=\"https://colab.research.google.com/github/adamsyed3181/AI/blob/main/Problem1.ipynb\" target=\"_parent\"><img src=\"https://colab.research.google.com/assets/colab-badge.svg\" alt=\"Open In Colab\"/></a>"
      ]
    },
    {
      "cell_type": "markdown",
      "source": [
        "Adam Syed\n",
        "9/24/25\n",
        "\n",
        "Assignment 2 Problem 1: Using a BFS algorithm, return the kth-level friend for a given user."
      ],
      "metadata": {
        "id": "4ewtt7s51BHU"
      }
    },
    {
      "cell_type": "code",
      "source": [
        "from collections import deque\n",
        "\n",
        "def FindFriends(network, user, target_level): #creates BFS function with a network/graph of friends users, a root user, and target level goal\n",
        "\n",
        "    visited, queue = set(), deque([user])\n",
        "    visited.add(user)\n",
        "    level = {} #creates empty dictionary for level\n",
        "\n",
        "    while queue:\n",
        "\n",
        "        level[user] = 0 #sets level of user value to 0\n",
        "\n",
        "        friend = queue.popleft() #friend of user\n",
        "\n",
        "        if target_level == level[friend]: #only prints friends at target level\n",
        "          print(friend, end=\" \")\n",
        "\n",
        "        for mutual in network[friend]:\n",
        "            if mutual not in visited:\n",
        "                visited.add(mutual)\n",
        "                queue.append(mutual)\n",
        "                level[mutual] = level[friend] + 1 #Increases all mutuals' levels at the curret friend by 1"
      ],
      "metadata": {
        "id": "DNsTDz5Pq2p4"
      },
      "execution_count": null,
      "outputs": []
    },
    {
      "cell_type": "code",
      "source": [
        "G = {\n",
        "  \"Bob\" : [\"Rob\", \"Richard\", \"Pam\"],\n",
        "  \"Richard\" : [\"Bob\"],\n",
        "  \"Rob\" : [\"Bob\"],\n",
        "  \"Pam\" : [\"Bob\", \"Peter\", \"Roger\"],\n",
        "  \"Peter\" : [\"Pam\", \"Amy\"],\n",
        "  \"Amy\" : [\"Peter\"],\n",
        "  \"Roger\" : [\"Pam\", \"Anna\"],\n",
        "  \"Anna\" : [\"Roger\"],\n",
        "}\n",
        "\n",
        "FindFriends(G, 'Bob', 3)"
      ],
      "metadata": {
        "colab": {
          "base_uri": "https://localhost:8080/"
        },
        "id": "p9npznn9qhQx",
        "outputId": "f7515c98-3669-439a-f679-d0587ae89bd3"
      },
      "execution_count": null,
      "outputs": [
        {
          "output_type": "stream",
          "name": "stdout",
          "text": [
            "Amy Anna "
          ]
        }
      ]
    }
  ]
}
